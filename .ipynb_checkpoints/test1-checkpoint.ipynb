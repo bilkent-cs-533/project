{
 "cells": [
  {
   "cell_type": "code",
   "execution_count": 1,
   "metadata": {},
   "outputs": [],
   "source": [
    "import numpy as np\n",
    "from TurkishStemmer import TurkishStemmer \n",
    "import numpy as np\n",
    "import matplotlib.pyplot as plt\n",
    "from matplotlib import style\n",
    "style.use(\"ggplot\")\n",
    "from sklearn.svm import LinearSVC\n",
    "import time"
   ]
  },
  {
   "cell_type": "code",
   "execution_count": 2,
   "metadata": {},
   "outputs": [],
   "source": [
    "test_data_file_name = 'test_tweets.txt'\n",
    "train_data_file_name = 'train_tweets.txt'\n",
    "stop_words_file_name = 'stop_words_tr_147.txt'"
   ]
  },
  {
   "cell_type": "code",
   "execution_count": 3,
   "metadata": {},
   "outputs": [],
   "source": [
    "# input text data file name\n",
    "# output text to class dictionary\n",
    "def get_data_class_pairs(file_name):\n",
    "  data2class = dict()\n",
    "  with open(file_name, 'r', encoding='utf-8') as f:\n",
    "    for l in f.readlines():\n",
    "      arr = l.split('\\t')\n",
    "      data2class[arr[0]] = arr[1]\n",
    "  return data2class\n",
    "\n",
    "# docs is list of list of words\n",
    "def get_corpus(docs):\n",
    "  d = dict()\n",
    "  for doc in docs:\n",
    "    for w in doc:\n",
    "      d[w] = True\n",
    "  \n",
    "  i = 0\n",
    "  for w in d:\n",
    "    d[w] = i\n",
    "    i += 1\n",
    "\n",
    "  return d\n",
    "\n",
    "# here doc is a dictionary of word to count of word in the doc\n",
    "def get_features(doc, corpus):\n",
    "  l = []\n",
    "  for w in corpus:\n",
    "    if w in doc:\n",
    "      l.append(doc[w])\n",
    "    else:\n",
    "      l.append(0)\n",
    "  return l\n",
    "\n",
    "def remove_stop_words(stop_words_file_name, words):\n",
    "  with open(stop_words_file_name, 'r', encoding=\"utf-8\") as myfile:\n",
    "    stop_words = myfile.read().lower().strip().split()\n",
    "\n",
    "  return [x for x in words if x not in stop_words]\n",
    "\n",
    "@np.vectorize\n",
    "def turkish_stemmer_vectorize(words):\n",
    "  if len(words) == 0:\n",
    "    return []\n",
    "  stemmer = TurkishStemmer()\n",
    "  return stemmer.stem(words)\n",
    "\n",
    "# docs is list of list of words\n",
    "# corpus is dictionary of word to index\n",
    "def get_features_as_freq_dist(docs, corpus):\n",
    "  l = np.zeros((len(docs), len(corpus)))\n",
    "  for i,doc in enumerate(docs):\n",
    "    d = dict()\n",
    "    for word in doc:\n",
    "      if word in d:\n",
    "        d[word] += 1\n",
    "      else:\n",
    "        d[word] = 1\n",
    "    for word in doc:\n",
    "      l[i, corpus[word]] = d[word]\n",
    "      \n",
    "  return l\n",
    "\n",
    "# docs is list of list of words\n",
    "def get_features_as_binary_freq_dist(docs, corpus):\n",
    "  l = np.zeros((len(docs), len(corpus)))\n",
    "  for i,doc in enumerate(docs):\n",
    "    for word in doc:\n",
    "      l[i, corpus[word]] = 1\n",
    "      \n",
    "  return l\n",
    "\n",
    "def get_cleaned_docs_from_file(file_name):\n",
    "  datas = get_data_class_pairs(file_name)\n",
    "  raw_docs = []\n",
    "  cleaned_docs = []\n",
    "  for d in datas.keys():\n",
    "    raw_docs.append(d.split())\n",
    "  for d in raw_docs:\n",
    "    stop_words_removed = remove_stop_words(stop_words_file_name, d)\n",
    "    cleaned_docs.append(turkish_stemmer_vectorize(stop_words_removed))\n",
    "\n",
    "  return cleaned_docs, np.array(list(datas.values()))\n"
   ]
  },
  {
   "cell_type": "code",
   "execution_count": 4,
   "metadata": {},
   "outputs": [
    {
     "name": "stdout",
     "output_type": "stream",
     "text": [
      "Wall time: 13.7 s\n"
     ]
    }
   ],
   "source": [
    "%%time\n",
    "cleaned_docs, y = get_cleaned_docs_from_file(train_data_file_name)\n",
    "cleaned_docs2, y2 = get_cleaned_docs_from_file(test_data_file_name)\n",
    "corpus = get_corpus(cleaned_docs + cleaned_docs2)\n",
    "\n",
    "# generate classifier\n",
    "clf = LinearSVC(random_state=0, tol=1e-5)\n"
   ]
  },
  {
   "cell_type": "code",
   "execution_count": 5,
   "metadata": {},
   "outputs": [
    {
     "name": "stdout",
     "output_type": "stream",
     "text": [
      "0.6527777777777778\n",
      "Wall time: 19.1 s\n"
     ]
    }
   ],
   "source": [
    "%%time\n",
    "# generate features, fit the model and test\n",
    "features = get_features_as_freq_dist(cleaned_docs, corpus)\n",
    "clf.fit(features, y)\n",
    "\n",
    "features2 = get_features_as_freq_dist(cleaned_docs2, corpus)\n",
    "predictions = clf.predict(features2)\n",
    "print(sum(predictions==y2) / len(predictions))"
   ]
  },
  {
   "cell_type": "code",
   "execution_count": 6,
   "metadata": {},
   "outputs": [
    {
     "name": "stdout",
     "output_type": "stream",
     "text": [
      "0.6516203703703703\n",
      "Wall time: 18.3 s\n"
     ]
    }
   ],
   "source": [
    "%%time\n",
    "# generate features, fit the model and test\n",
    "bin_features = get_features_as_binary_freq_dist(cleaned_docs, corpus)\n",
    "clf = LinearSVC(random_state=0, tol=1e-5)\n",
    "clf.fit(bin_features, y)\n",
    "\n",
    "bin_features2 = get_features_as_binary_freq_dist(cleaned_docs2, corpus)\n",
    "predictions = clf.predict(bin_features2)\n",
    "print(sum(predictions==y2) / len(predictions))"
   ]
  },
  {
   "cell_type": "code",
   "execution_count": 7,
   "metadata": {},
   "outputs": [
    {
     "name": "stdout",
     "output_type": "stream",
     "text": [
      "0.6533564814814815\n",
      "Wall time: 43.5 s\n"
     ]
    }
   ],
   "source": [
    "%%time\n",
    "merged_features = np.concatenate((features,bin_features[:,:100]), axis=1)\n",
    "# clear some RAM\n",
    "features = 0\n",
    "bin_features = 0\n",
    "merged_features2 = np.concatenate((features2,bin_features2[:,:100]), axis=1)\n",
    "# clear some RAM\n",
    "features2 = 0\n",
    "bin_features2 = 0\n",
    "clf.fit(merged_features, y)\n",
    "predictions = clf.predict(merged_features2)\n",
    "print(sum(predictions==y2) / len(predictions))"
   ]
  },
  {
   "cell_type": "code",
   "execution_count": 8,
   "metadata": {},
   "outputs": [],
   "source": [
    "bin_features = 0\n",
    "bin_features2 = 0\n",
    "\n",
    "features = 0\n",
    "features2 = 0"
   ]
  },
  {
   "cell_type": "code",
   "execution_count": null,
   "metadata": {},
   "outputs": [],
   "source": []
  }
 ],
 "metadata": {
  "kernelspec": {
   "display_name": "Python 3",
   "language": "python",
   "name": "python3"
  },
  "language_info": {
   "codemirror_mode": {
    "name": "ipython",
    "version": 3
   },
   "file_extension": ".py",
   "mimetype": "text/x-python",
   "name": "python",
   "nbconvert_exporter": "python",
   "pygments_lexer": "ipython3",
   "version": "3.7.0"
  }
 },
 "nbformat": 4,
 "nbformat_minor": 2
}
